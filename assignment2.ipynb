{
 "cells": [
  {
   "cell_type": "code",
   "execution_count": null,
   "id": "9035606a-b53f-4604-ba25-4c5427bf77de",
   "metadata": {},
   "outputs": [],
   "source": [
    "#what is complex number in mathematices and how it is represented in python?\n",
    "#In mathematics, a complex number is a number that can be expressed in the form of a + bi, where a and b are real numbers, and i represents the imaginary unit. The imaginary unit i is defined as the square root of -1. The real part of the complex number is denoted by a, and the imaginary part is denoted by b.\n",
    "\n",
    "#Here are a few key points about complex numbers:\n",
    "\n",
    "#Real Numbers: If the imaginary part b is equal to 0, the complex number reduces to a real number. For example, 5 + 0i is equivalent to the real number 5.\n",
    "\n",
    "#Imaginary Numbers: If the real part a is equal to 0, the complex number is purely imaginary. For example, 0 + 3i represents a purely imaginary number.\n",
    "#in python complex number is represented a+bj in mathematices we used a+bi therfore in place of i we used j\n",
    "\n"
   ]
  },
  {
   "cell_type": "code",
   "execution_count": 2,
   "id": "8a7a4ace-2136-400d-ba0c-210ce890d9ea",
   "metadata": {},
   "outputs": [
    {
     "name": "stdout",
     "output_type": "stream",
     "text": [
      "25\n"
     ]
    }
   ],
   "source": [
    "#what is correct to way to declare a variable named age and assign value 25 to it\n",
    "age = 25\n",
    "print(age)"
   ]
  },
  {
   "cell_type": "code",
   "execution_count": 3,
   "id": "674087cb-a9fe-43f2-be05-5e0516bdee74",
   "metadata": {},
   "outputs": [
    {
     "name": "stdout",
     "output_type": "stream",
     "text": [
      "<class 'float'>\n"
     ]
    }
   ],
   "source": [
    "#declare a variable named price and assign a value 9.99 to it what data type does it belong to?\n",
    "n1=9.99\n",
    "print(type(n1))"
   ]
  },
  {
   "cell_type": "code",
   "execution_count": 4,
   "id": "69898098-e565-4f2f-a411-f0673a6a037b",
   "metadata": {},
   "outputs": [
    {
     "name": "stdout",
     "output_type": "stream",
     "text": [
      "Komal Ojha\n"
     ]
    }
   ],
   "source": [
    "#create a variable named nameof yours and assign full name to string .how would you print the value to this variable?\n",
    "nameof_yours = \"Komal Ojha\"\n",
    "print(nameof_yours)\n"
   ]
  },
  {
   "cell_type": "code",
   "execution_count": 5,
   "id": "72957462-b502-4e28-827e-12c0775d10df",
   "metadata": {},
   "outputs": [
    {
     "name": "stdout",
     "output_type": "stream",
     "text": [
      "world\n"
     ]
    }
   ],
   "source": [
    "#give the string \"hello world \" extract the  substring world\n",
    "n3=\"hello world\"\n",
    "a=n3[6::1]\n",
    "print(a)\n"
   ]
  },
  {
   "cell_type": "code",
   "execution_count": 6,
   "id": "1b75678e-862f-4bb6-8c04-a2f048692948",
   "metadata": {},
   "outputs": [
    {
     "name": "stdout",
     "output_type": "stream",
     "text": [
      "True\n",
      "True\n",
      "True\n",
      "True\n",
      "True\n",
      "True\n",
      "True\n",
      "True\n",
      "True\n",
      "True\n"
     ]
    }
   ],
   "source": [
    " #creating a variable named \"is_student\" and assign it a boolean value indicating wheathestudent or not\n",
    "n4=\"is_student\"\n",
    "for a in n4:\n",
    "    print(True)\n"
   ]
  },
  {
   "cell_type": "code",
   "execution_count": 7,
   "id": "7f817e53-6e53-4e30-b908-48d0d62c4296",
   "metadata": {},
   "outputs": [
    {
     "name": "stdout",
     "output_type": "stream",
     "text": [
      "[1, 2, 3, 4, 5, [2, 3]]\n",
      "[1, 2, 3, 4, 5]\n"
     ]
    }
   ],
   "source": [
    "#given a list my_list[1,2,3,4,5] write the code to slice the list and obtain the sublist[]\n",
    "l1=[1,2,3,4,5]\n",
    "l2=[2,3]\n",
    "l1.append(l2)\n",
    "print(l1)\n",
    "l1.remove(l2)\n",
    "print(l1)"
   ]
  },
  {
   "cell_type": "code",
   "execution_count": null,
   "id": "596f59b6-d9f6-41d8-8bd6-d37e4ef953e9",
   "metadata": {},
   "outputs": [],
   "source": [
    "#how do you comment code in python ?what are the different types of comments?\n",
    "#we used comment just increase more readibility of code, makes notes in python comments are ignores by python interpreter\n",
    "#and cannnot be part of pythom programmer\n",
    "#two types of comments we used in python\n",
    "#single line comments(#) and docstrings(multiline comments)(\"\"\"   \"\"\")"
   ]
  },
  {
   "cell_type": "code",
   "execution_count": 8,
   "id": "d803f1e5-45ed-48d1-8097-988d7d6ec8cc",
   "metadata": {},
   "outputs": [
    {
     "name": "stdout",
     "output_type": "stream",
     "text": [
      "enter your age\n"
     ]
    },
    {
     "name": "stdin",
     "output_type": "stream",
     "text": [
      " 45\n"
     ]
    },
    {
     "name": "stdout",
     "output_type": "stream",
     "text": [
      "you can drive a car\n"
     ]
    }
   ],
   "source": [
    "#what are variables in python?how do you declare and assign value to variables\n",
    "#variables are used to store data in a place.they occupy a space which is filled by any varibles such as string, number etc\n",
    "#assign value to a variable example\n",
    "\n",
    "print(\"enter your age\")\n",
    "n=int(input())\n",
    "if n>=18 :\n",
    "    print(\"you can drive a car\")\n",
    "elif n<18 :\n",
    "    print(\"you cannot drive a car\")\n",
    "else:\n",
    "    print(\"have a safe drive\")\n",
    "    "
   ]
  },
  {
   "cell_type": "code",
   "execution_count": 1,
   "id": "5f9a3084-04dc-4af8-a5f9-ed4a9fb6f2f4",
   "metadata": {},
   "outputs": [
    {
     "name": "stdout",
     "output_type": "stream",
     "text": [
      "['komal', 2, 3, 4, 'komal']\n"
     ]
    }
   ],
   "source": [
    "#how do you convert one data type to another\n",
    "l1=[1,2,3,4,\"komal\"]\n",
    "l1[0]=\"komal\"\n",
    "print(l1)"
   ]
  },
  {
   "cell_type": "code",
   "execution_count": null,
   "id": "f33f52ef-cab6-4697-8cfe-7259cf057415",
   "metadata": {},
   "outputs": [],
   "source": [
    "#how do you write and execute a python script from the command line\n"
   ]
  },
  {
   "cell_type": "code",
   "execution_count": null,
   "id": "baef65d5-b404-4ecd-b7e3-5ea3f2d5f107",
   "metadata": {},
   "outputs": [],
   "source": []
  },
  {
   "cell_type": "code",
   "execution_count": null,
   "id": "fc07899f-a88a-470f-b02f-32c916bc733a",
   "metadata": {},
   "outputs": [],
   "source": []
  },
  {
   "cell_type": "code",
   "execution_count": null,
   "id": "95e523d1-bd8e-4979-9ef5-cf82e0c459ee",
   "metadata": {},
   "outputs": [],
   "source": []
  },
  {
   "cell_type": "code",
   "execution_count": null,
   "id": "2ba32e8d-cc86-45c7-8969-1109fc0ad484",
   "metadata": {},
   "outputs": [],
   "source": []
  },
  {
   "cell_type": "code",
   "execution_count": null,
   "id": "72a1317b-1dd6-4b1b-8d9d-e04dc3c23327",
   "metadata": {},
   "outputs": [],
   "source": []
  },
  {
   "cell_type": "code",
   "execution_count": null,
   "id": "d0fc431c-d075-4fc3-b75e-22fa41511efe",
   "metadata": {},
   "outputs": [],
   "source": []
  },
  {
   "cell_type": "code",
   "execution_count": null,
   "id": "7401a840-3759-4848-9e7c-c4de742e8570",
   "metadata": {},
   "outputs": [],
   "source": []
  }
 ],
 "metadata": {
  "kernelspec": {
   "display_name": "Python 3 (ipykernel)",
   "language": "python",
   "name": "python3"
  },
  "language_info": {
   "codemirror_mode": {
    "name": "ipython",
    "version": 3
   },
   "file_extension": ".py",
   "mimetype": "text/x-python",
   "name": "python",
   "nbconvert_exporter": "python",
   "pygments_lexer": "ipython3",
   "version": "3.10.8"
  }
 },
 "nbformat": 4,
 "nbformat_minor": 5
}
